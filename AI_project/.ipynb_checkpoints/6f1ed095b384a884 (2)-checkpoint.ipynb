{
 "cells": [
  {
   "cell_type": "markdown",
   "metadata": {},
   "source": [
    "# League of Legend 승리 예측\n",
    "출발: 리그 오브 레전드의 승리와 패배에 직접적으로 연관이 있는 정보를 데이터화 시켜서 승리할지 패배할지를 예측하는 프로그램을 만들고 싶었습니다\n",
    "\n",
    "역할분담: \n",
    "\n",
    "\n",
    "우동관 - 데이터수집  \n",
    "          박선우 - 전반적인 코드 작성 및 모델링 구상"
   ]
  },
  {
   "cell_type": "markdown",
   "metadata": {},
   "source": [
    "# 1. 데이터 가져오기\n",
    "\n",
    "데이터 출처 - https://developer.riotgames.com/\n",
    "유저의 승패에 관한 정보를 데이터화 시킴\n",
    "\n",
    "데이터가 전부 저장이 되고 나면 오류를 출력시킴 "
   ]
  },
  {
   "cell_type": "code",
   "execution_count": 14,
   "metadata": {},
   "outputs": [
    {
     "ename": "KeyError",
     "evalue": "'info'",
     "output_type": "error",
     "traceback": [
      "\u001b[1;31m---------------------------------------------------------------------------\u001b[0m",
      "\u001b[1;31mKeyError\u001b[0m                                  Traceback (most recent call last)",
      "\u001b[1;32m<ipython-input-14-04bffec46b20>\u001b[0m in \u001b[0;36m<module>\u001b[1;34m\u001b[0m\n\u001b[0;32m     37\u001b[0m \u001b[1;33m\u001b[0m\u001b[0m\n\u001b[0;32m     38\u001b[0m     \u001b[0mmatches\u001b[0m\u001b[1;33m.\u001b[0m\u001b[0mappend\u001b[0m\u001b[1;33m(\u001b[0m\u001b[0mres\u001b[0m\u001b[1;33m)\u001b[0m\u001b[1;33m;\u001b[0m\u001b[1;33m\u001b[0m\u001b[1;33m\u001b[0m\u001b[0m\n\u001b[1;32m---> 39\u001b[1;33m     \u001b[0mgameDuration\u001b[0m\u001b[1;33m.\u001b[0m\u001b[0mappend\u001b[0m\u001b[1;33m(\u001b[0m\u001b[0mint\u001b[0m\u001b[1;33m(\u001b[0m\u001b[0mres\u001b[0m\u001b[1;33m[\u001b[0m\u001b[1;34m'info'\u001b[0m\u001b[1;33m]\u001b[0m\u001b[1;33m[\u001b[0m\u001b[1;34m'gameDuration'\u001b[0m\u001b[1;33m]\u001b[0m \u001b[1;33m/\u001b[0m \u001b[1;36m1000\u001b[0m \u001b[1;33m/\u001b[0m \u001b[1;36m60\u001b[0m\u001b[1;33m)\u001b[0m\u001b[1;33m)\u001b[0m\u001b[1;33m;\u001b[0m\u001b[1;33m\u001b[0m\u001b[1;33m\u001b[0m\u001b[0m\n\u001b[0m\u001b[0;32m     40\u001b[0m \u001b[1;33m\u001b[0m\u001b[0m\n\u001b[0;32m     41\u001b[0m     \u001b[1;32mfor\u001b[0m \u001b[0mparticipant\u001b[0m \u001b[1;32min\u001b[0m \u001b[0mres\u001b[0m\u001b[1;33m[\u001b[0m\u001b[1;34m'info'\u001b[0m\u001b[1;33m]\u001b[0m\u001b[1;33m[\u001b[0m\u001b[1;34m'participants'\u001b[0m\u001b[1;33m]\u001b[0m\u001b[1;33m:\u001b[0m\u001b[1;33m\u001b[0m\u001b[1;33m\u001b[0m\u001b[0m\n",
      "\u001b[1;31mKeyError\u001b[0m: 'info'"
     ]
    }
   ],
   "source": [
    "# 데이터 가져오기\n",
    "\n",
    "import time\n",
    "import requests\n",
    "from urllib import parse\n",
    "\n",
    "summonerName = \"SORAYAMA\"; #검색할 닉네임\n",
    "DEVELOPMENTAPIKEY = \"RGAPI-4bbcb5b9-278b-4fb1-9065-973790af8365\"; #API사용을 위한 키\n",
    "encodingSummonerName = parse.quote(summonerName); #url에 넣기 위해 인코딩\n",
    "APIURL = \"https://kr.api.riotgames.com/lol/summoner/v4/summoners/by-name/\" + encodingSummonerName;\n",
    "headers = {\n",
    "    \"User-Agent\": \"Mozilla/5.0 (Windows NT 10.0; Win64; x64) AppleWebKit/537.36 (KHTML, like Gecko) Chrome/89.0.4389.128 Safari/537.36\",\n",
    "    \"Accept-Language\": \"ko-KR,ko;q=0.9,en-US;q=0.8,en;q=0.7\",\n",
    "    \"Accept-Charset\": \"application/x-www-form-urlencoded; charset=UTF-8\",\n",
    "    \"Origin\": \"https://developer.riotgames.com\",\n",
    "    \"X-Riot-Token\": DEVELOPMENTAPIKEY\n",
    "    };\n",
    "res = requests.get(APIURL, headers=headers).json();\n",
    "puuid = res['puuid']; #가져온 플레이어의 puuid\n",
    "\n",
    "APIURL = \"https://asia.api.riotgames.com/lol/match/v5/matches/by-puuid/\" + puuid + \"/ids?start=0&count=100\";\n",
    "matchesId = requests.get(APIURL, headers=headers).json(); #해당 플레이어의 최근 100게임의 아이디\n",
    "\n",
    "matches = [];\n",
    "foundGameCount = 0;\n",
    "gameDuration = [];\n",
    "wins = []; #최근 100판 승패\n",
    "kills = []; #최근 100판 킬수\n",
    "deaths = []; #최근 100판 데스\n",
    "assists = []; #최근 100판 어시스트\n",
    "goldEarned = []; #최근 100판 골드 수급량\n",
    "totalDamageDealtToChampions = []; #최근 100판 딜량\n",
    "\n",
    "for matcheId  in matchesId:            \n",
    "    APIURL = \"https://asia.api.riotgames.com/lol/match/v5/matches/\" + matcheId;\n",
    "    res = requests.get(APIURL, headers=headers).json();\n",
    "    \n",
    "    matches.append(res);\n",
    "    gameDuration.append(int(res['info']['gameDuration'] / 1000 / 60));\n",
    "    \n",
    "    for participant in res['info']['participants']:\n",
    "        if(participant['summonerName'] == summonerName):\n",
    "            wins.append(participant['win']);\n",
    "            assists.append(participant['assists']);\n",
    "            deaths.append(participant['deaths']);\n",
    "            kills.append(participant['kills']);\n",
    "            goldEarned.append(participant['goldEarned']);\n",
    "            totalDamageDealtToChampions.append(participant['totalDamageDealtToChampions']);\n",
    "            \n",
    "    foundGameCount += 1;"
   ]
  },
  {
   "cell_type": "markdown",
   "metadata": {},
   "source": [
    "# 2. pandas 활용\n",
    "\n",
    "정보를 필요한 부분만 사용해 데이터화 시켰습니다 \n",
    "\n",
    "(gameDuration(min), wins, kills, deaths, assists, goldEarned, totalDamageDealtToChampions 사용)\n",
    "\n",
    "\n",
    "데이터를 불러와 데이터 확인"
   ]
  },
  {
   "cell_type": "code",
   "execution_count": 15,
   "metadata": {},
   "outputs": [
    {
     "name": "stdout",
     "output_type": "stream",
     "text": [
      "10\n"
     ]
    },
    {
     "data": {
      "text/html": [
       "<div>\n",
       "<style scoped>\n",
       "    .dataframe tbody tr th:only-of-type {\n",
       "        vertical-align: middle;\n",
       "    }\n",
       "\n",
       "    .dataframe tbody tr th {\n",
       "        vertical-align: top;\n",
       "    }\n",
       "\n",
       "    .dataframe thead th {\n",
       "        text-align: right;\n",
       "    }\n",
       "</style>\n",
       "<table border=\"1\" class=\"dataframe\">\n",
       "  <thead>\n",
       "    <tr style=\"text-align: right;\">\n",
       "      <th></th>\n",
       "      <th>gameDuration(min)</th>\n",
       "      <th>wins</th>\n",
       "      <th>kills</th>\n",
       "      <th>deaths</th>\n",
       "      <th>assists</th>\n",
       "      <th>goldEarned</th>\n",
       "      <th>totalDamageDealtToChampions</th>\n",
       "    </tr>\n",
       "    <tr>\n",
       "      <th>idx</th>\n",
       "      <th></th>\n",
       "      <th></th>\n",
       "      <th></th>\n",
       "      <th></th>\n",
       "      <th></th>\n",
       "      <th></th>\n",
       "      <th></th>\n",
       "    </tr>\n",
       "  </thead>\n",
       "  <tbody>\n",
       "    <tr>\n",
       "      <th>0</th>\n",
       "      <td>35</td>\n",
       "      <td>True</td>\n",
       "      <td>10</td>\n",
       "      <td>6</td>\n",
       "      <td>11</td>\n",
       "      <td>12830</td>\n",
       "      <td>19548</td>\n",
       "    </tr>\n",
       "    <tr>\n",
       "      <th>1</th>\n",
       "      <td>45</td>\n",
       "      <td>False</td>\n",
       "      <td>8</td>\n",
       "      <td>12</td>\n",
       "      <td>6</td>\n",
       "      <td>17423</td>\n",
       "      <td>27634</td>\n",
       "    </tr>\n",
       "    <tr>\n",
       "      <th>2</th>\n",
       "      <td>27</td>\n",
       "      <td>False</td>\n",
       "      <td>2</td>\n",
       "      <td>15</td>\n",
       "      <td>8</td>\n",
       "      <td>7493</td>\n",
       "      <td>7863</td>\n",
       "    </tr>\n",
       "    <tr>\n",
       "      <th>3</th>\n",
       "      <td>32</td>\n",
       "      <td>True</td>\n",
       "      <td>8</td>\n",
       "      <td>10</td>\n",
       "      <td>16</td>\n",
       "      <td>13499</td>\n",
       "      <td>21944</td>\n",
       "    </tr>\n",
       "    <tr>\n",
       "      <th>4</th>\n",
       "      <td>9</td>\n",
       "      <td>True</td>\n",
       "      <td>5</td>\n",
       "      <td>4</td>\n",
       "      <td>20</td>\n",
       "      <td>8010</td>\n",
       "      <td>9622</td>\n",
       "    </tr>\n",
       "    <tr>\n",
       "      <th>5</th>\n",
       "      <td>15</td>\n",
       "      <td>False</td>\n",
       "      <td>1</td>\n",
       "      <td>11</td>\n",
       "      <td>13</td>\n",
       "      <td>9241</td>\n",
       "      <td>11384</td>\n",
       "    </tr>\n",
       "    <tr>\n",
       "      <th>6</th>\n",
       "      <td>10</td>\n",
       "      <td>False</td>\n",
       "      <td>0</td>\n",
       "      <td>0</td>\n",
       "      <td>0</td>\n",
       "      <td>1550</td>\n",
       "      <td>0</td>\n",
       "    </tr>\n",
       "    <tr>\n",
       "      <th>7</th>\n",
       "      <td>34</td>\n",
       "      <td>False</td>\n",
       "      <td>6</td>\n",
       "      <td>12</td>\n",
       "      <td>8</td>\n",
       "      <td>11970</td>\n",
       "      <td>19685</td>\n",
       "    </tr>\n",
       "    <tr>\n",
       "      <th>8</th>\n",
       "      <td>28</td>\n",
       "      <td>True</td>\n",
       "      <td>6</td>\n",
       "      <td>9</td>\n",
       "      <td>15</td>\n",
       "      <td>9693</td>\n",
       "      <td>15917</td>\n",
       "    </tr>\n",
       "    <tr>\n",
       "      <th>9</th>\n",
       "      <td>28</td>\n",
       "      <td>False</td>\n",
       "      <td>7</td>\n",
       "      <td>7</td>\n",
       "      <td>8</td>\n",
       "      <td>10517</td>\n",
       "      <td>25606</td>\n",
       "    </tr>\n",
       "  </tbody>\n",
       "</table>\n",
       "</div>"
      ],
      "text/plain": [
       "     gameDuration(min)   wins  kills  deaths  assists  goldEarned  \\\n",
       "idx                                                                 \n",
       "0                   35   True     10       6       11       12830   \n",
       "1                   45  False      8      12        6       17423   \n",
       "2                   27  False      2      15        8        7493   \n",
       "3                   32   True      8      10       16       13499   \n",
       "4                    9   True      5       4       20        8010   \n",
       "5                   15  False      1      11       13        9241   \n",
       "6                   10  False      0       0        0        1550   \n",
       "7                   34  False      6      12        8       11970   \n",
       "8                   28   True      6       9       15        9693   \n",
       "9                   28  False      7       7        8       10517   \n",
       "\n",
       "     totalDamageDealtToChampions  \n",
       "idx                               \n",
       "0                          19548  \n",
       "1                          27634  \n",
       "2                           7863  \n",
       "3                          21944  \n",
       "4                           9622  \n",
       "5                          11384  \n",
       "6                              0  \n",
       "7                          19685  \n",
       "8                          15917  \n",
       "9                          25606  "
      ]
     },
     "execution_count": 15,
     "metadata": {},
     "output_type": "execute_result"
    }
   ],
   "source": [
    "import pandas as pd\n",
    "print(foundGameCount)\n",
    "\n",
    "df = pd.DataFrame({\n",
    "    'gameDuration(min)': gameDuration,\n",
    "    'wins': wins,\n",
    "    'kills': kills,\n",
    "    'deaths': deaths,\n",
    "    'assists': assists,\n",
    "    'goldEarned': goldEarned,\n",
    "    'totalDamageDealtToChampions': totalDamageDealtToChampions,\n",
    "}, index = pd.Index(range(foundGameCount), name='idx'));\n",
    "\n",
    "df.to_json(\"datas/\" + summonerName + \".json\", orient='table'); #데이터 json파일로 변경\n",
    "\n",
    "new_data = pd.read_json(\"datas/\" + summonerName + \".json\", orient='table') #데이터 불러오기\n",
    "new_data #출력"
   ]
  },
  {
   "cell_type": "code",
   "execution_count": 73,
   "metadata": {},
   "outputs": [
    {
     "name": "stdout",
     "output_type": "stream",
     "text": [
      "1424\n"
     ]
    },
    {
     "data": {
      "text/html": [
       "<div>\n",
       "<style scoped>\n",
       "    .dataframe tbody tr th:only-of-type {\n",
       "        vertical-align: middle;\n",
       "    }\n",
       "\n",
       "    .dataframe tbody tr th {\n",
       "        vertical-align: top;\n",
       "    }\n",
       "\n",
       "    .dataframe thead th {\n",
       "        text-align: right;\n",
       "    }\n",
       "</style>\n",
       "<table border=\"1\" class=\"dataframe\">\n",
       "  <thead>\n",
       "    <tr style=\"text-align: right;\">\n",
       "      <th></th>\n",
       "      <th>gameDuration(min)</th>\n",
       "      <th>wins</th>\n",
       "      <th>kills</th>\n",
       "      <th>deaths</th>\n",
       "      <th>assists</th>\n",
       "      <th>goldEarned</th>\n",
       "      <th>totalDamageDealtToChampions</th>\n",
       "    </tr>\n",
       "    <tr>\n",
       "      <th>idx</th>\n",
       "      <th></th>\n",
       "      <th></th>\n",
       "      <th></th>\n",
       "      <th></th>\n",
       "      <th></th>\n",
       "      <th></th>\n",
       "      <th></th>\n",
       "    </tr>\n",
       "  </thead>\n",
       "  <tbody>\n",
       "    <tr>\n",
       "      <th>0</th>\n",
       "      <td>39.0</td>\n",
       "      <td>0.0</td>\n",
       "      <td>11.0</td>\n",
       "      <td>5.0</td>\n",
       "      <td>14.0</td>\n",
       "      <td>14048.0</td>\n",
       "      <td>34290.0</td>\n",
       "    </tr>\n",
       "    <tr>\n",
       "      <th>1</th>\n",
       "      <td>21.0</td>\n",
       "      <td>0.0</td>\n",
       "      <td>0.0</td>\n",
       "      <td>4.0</td>\n",
       "      <td>6.0</td>\n",
       "      <td>5250.0</td>\n",
       "      <td>5428.0</td>\n",
       "    </tr>\n",
       "    <tr>\n",
       "      <th>2</th>\n",
       "      <td>22.0</td>\n",
       "      <td>0.0</td>\n",
       "      <td>21.0</td>\n",
       "      <td>10.0</td>\n",
       "      <td>11.0</td>\n",
       "      <td>20037.0</td>\n",
       "      <td>48778.0</td>\n",
       "    </tr>\n",
       "    <tr>\n",
       "      <th>3</th>\n",
       "      <td>14.0</td>\n",
       "      <td>0.0</td>\n",
       "      <td>6.0</td>\n",
       "      <td>10.0</td>\n",
       "      <td>2.0</td>\n",
       "      <td>11986.0</td>\n",
       "      <td>14727.0</td>\n",
       "    </tr>\n",
       "    <tr>\n",
       "      <th>4</th>\n",
       "      <td>22.0</td>\n",
       "      <td>0.0</td>\n",
       "      <td>20.0</td>\n",
       "      <td>6.0</td>\n",
       "      <td>10.0</td>\n",
       "      <td>22629.0</td>\n",
       "      <td>45809.0</td>\n",
       "    </tr>\n",
       "    <tr>\n",
       "      <th>5</th>\n",
       "      <td>18.0</td>\n",
       "      <td>0.0</td>\n",
       "      <td>20.0</td>\n",
       "      <td>7.0</td>\n",
       "      <td>3.0</td>\n",
       "      <td>18348.0</td>\n",
       "      <td>30241.0</td>\n",
       "    </tr>\n",
       "    <tr>\n",
       "      <th>6</th>\n",
       "      <td>14.0</td>\n",
       "      <td>1.0</td>\n",
       "      <td>5.0</td>\n",
       "      <td>1.0</td>\n",
       "      <td>21.0</td>\n",
       "      <td>11830.0</td>\n",
       "      <td>14879.0</td>\n",
       "    </tr>\n",
       "  </tbody>\n",
       "</table>\n",
       "</div>"
      ],
      "text/plain": [
       "     gameDuration(min)  wins  kills  deaths  assists  goldEarned  \\\n",
       "idx                                                                \n",
       "0                 39.0   0.0   11.0     5.0     14.0     14048.0   \n",
       "1                 21.0   0.0    0.0     4.0      6.0      5250.0   \n",
       "2                 22.0   0.0   21.0    10.0     11.0     20037.0   \n",
       "3                 14.0   0.0    6.0    10.0      2.0     11986.0   \n",
       "4                 22.0   0.0   20.0     6.0     10.0     22629.0   \n",
       "5                 18.0   0.0   20.0     7.0      3.0     18348.0   \n",
       "6                 14.0   1.0    5.0     1.0     21.0     11830.0   \n",
       "\n",
       "     totalDamageDealtToChampions  \n",
       "idx                               \n",
       "0                        34290.0  \n",
       "1                         5428.0  \n",
       "2                        48778.0  \n",
       "3                        14727.0  \n",
       "4                        45809.0  \n",
       "5                        30241.0  \n",
       "6                        14879.0  "
      ]
     },
     "execution_count": 73,
     "metadata": {},
     "output_type": "execute_result"
    }
   ],
   "source": [
    "import os\n",
    "import pandas as pd\n",
    "import tensorflow as tf\n",
    "from sklearn.model_selection import train_test_split\n",
    "\n",
    "data_dir = \"datas\"\n",
    "summonerNames = os.listdir(data_dir)\n",
    "df = pd.DataFrame();\n",
    "\n",
    "for i in summonerNames:\n",
    "    tmp = pd.read_json(data_dir + \"/\" + i, orient='table')\n",
    "    df = pd.concat([df, tmp])\n",
    "\n",
    "print(len(df));\n",
    "df.head(7)"
   ]
  },
  {
   "cell_type": "code",
   "execution_count": 74,
   "metadata": {},
   "outputs": [
    {
     "data": {
      "text/plain": [
       "gameDuration(min)              float64\n",
       "wins                           float64\n",
       "kills                          float64\n",
       "deaths                         float64\n",
       "assists                        float64\n",
       "goldEarned                     float64\n",
       "totalDamageDealtToChampions    float64\n",
       "dtype: object"
      ]
     },
     "execution_count": 74,
     "metadata": {},
     "output_type": "execute_result"
    }
   ],
   "source": [
    "df.dtypes"
   ]
  },
  {
   "cell_type": "code",
   "execution_count": 75,
   "metadata": {},
   "outputs": [],
   "source": [
    "target = df.pop('wins')"
   ]
  },
  {
   "cell_type": "markdown",
   "metadata": {},
   "source": [
    "# 3. 모델 정의 (이진분류)\n",
    "\n",
    "데이터셋을 나눈다음, 이진분류모델을 만들기 위해 활성화함수를 sigmoid, 손실함수를 binary_crossentropy 로 설정합니다.  "
   ]
  },
  {
   "cell_type": "markdown",
   "metadata": {},
   "source": [
    "![nn](img/nn.jpg)"
   ]
  },
  {
   "cell_type": "code",
   "execution_count": 76,
   "metadata": {},
   "outputs": [],
   "source": [
    "train_data, test_data, train_targets, test_targets = train_test_split(df.to_numpy(), target.to_numpy(), test_size=0.4, shuffle=\n",
    "                                                                    False, random_state=1004);"
   ]
  },
  {
   "cell_type": "code",
   "execution_count": 113,
   "metadata": {},
   "outputs": [],
   "source": [
    "import tensorflow\n",
    "from tensorflow.keras import models\n",
    "from tensorflow.keras import layers\n",
    "\n",
    "def build_model(): #동일한 모델을 여러 번 생성할 것이므로 함수를 만들어 사용합니다.\n",
    "    model = models.Sequential()\n",
    "    model.add(layers.Dense(16, activation='relu', input_shape=(10000,6,)))\n",
    "    model.add(layers.Dense(16, activation='relu'))\n",
    "    model.add(layers.Dense(1, activation='sigmoid')) \n",
    "    model.compile(optimizer='rmsprop', loss='binary_crossentropy',metrics=['accuracy'])\n",
    "    return model"
   ]
  },
  {
   "cell_type": "code",
   "execution_count": 114,
   "metadata": {},
   "outputs": [
    {
     "data": {
      "text/plain": [
       "(854, 6)"
      ]
     },
     "execution_count": 114,
     "metadata": {},
     "output_type": "execute_result"
    }
   ],
   "source": [
    "train_data.shape"
   ]
  },
  {
   "cell_type": "code",
   "execution_count": 115,
   "metadata": {},
   "outputs": [
    {
     "data": {
      "text/plain": [
       "(854,)"
      ]
     },
     "execution_count": 115,
     "metadata": {},
     "output_type": "execute_result"
    }
   ],
   "source": [
    "train_targets.shape #승리1 패배0"
   ]
  },
  {
   "cell_type": "code",
   "execution_count": 116,
   "metadata": {},
   "outputs": [
    {
     "data": {
      "text/plain": [
       "(570,)"
      ]
     },
     "execution_count": 116,
     "metadata": {},
     "output_type": "execute_result"
    }
   ],
   "source": [
    "test_targets.shape"
   ]
  },
  {
   "cell_type": "code",
   "execution_count": 117,
   "metadata": {},
   "outputs": [
    {
     "data": {
      "text/plain": [
       "(570, 6)"
      ]
     },
     "execution_count": 117,
     "metadata": {},
     "output_type": "execute_result"
    }
   ],
   "source": [
    "test_data.shape"
   ]
  },
  {
   "cell_type": "markdown",
   "metadata": {},
   "source": [
    "# 4. 데이터 정규화 과정"
   ]
  },
  {
   "cell_type": "code",
   "execution_count": 118,
   "metadata": {},
   "outputs": [],
   "source": [
    "#평균을 뺀 값을 표준 편차로 나눈다\n",
    "\n",
    "mean = train_data.mean(axis=0) #평균\n",
    "train_data -= mean #평균을 뺀값\n",
    "std = train_data.std(axis=0) #표준편차\n",
    "train_data /= std #평균을 뺀 값을 표준편차로 나눈 값\n",
    "\n",
    "test_data -= mean\n",
    "test_data /= std"
   ]
  },
  {
   "cell_type": "code",
   "execution_count": 119,
   "metadata": {},
   "outputs": [
    {
     "data": {
      "text/plain": [
       "(854, 6)"
      ]
     },
     "execution_count": 119,
     "metadata": {},
     "output_type": "execute_result"
    }
   ],
   "source": [
    "train_data.shape"
   ]
  },
  {
   "cell_type": "code",
   "execution_count": 120,
   "metadata": {},
   "outputs": [
    {
     "name": "stdout",
     "output_type": "stream",
     "text": [
      "Epoch 1/30\n",
      "WARNING:tensorflow:Model was constructed with shape (None, 10000, 6) for input Tensor(\"dense_57_input:0\", shape=(None, 10000, 6), dtype=float32), but it was called on an input with incompatible shape (None, 6).\n",
      "WARNING:tensorflow:Model was constructed with shape (None, 10000, 6) for input Tensor(\"dense_57_input:0\", shape=(None, 10000, 6), dtype=float32), but it was called on an input with incompatible shape (None, 6).\n",
      "54/54 [==============================] - 0s 888us/step - loss: 0.6311 - accuracy: 0.6382\n",
      "Epoch 2/30\n",
      "54/54 [==============================] - 0s 815us/step - loss: 0.5680 - accuracy: 0.7529\n",
      "Epoch 3/30\n",
      "54/54 [==============================] - 0s 815us/step - loss: 0.5245 - accuracy: 0.7717\n",
      "Epoch 4/30\n",
      "54/54 [==============================] - 0s 889us/step - loss: 0.4975 - accuracy: 0.7775\n",
      "Epoch 5/30\n",
      "54/54 [==============================] - 0s 889us/step - loss: 0.4815 - accuracy: 0.7775\n",
      "Epoch 6/30\n",
      "54/54 [==============================] - 0s 889us/step - loss: 0.4727 - accuracy: 0.7810\n",
      "Epoch 7/30\n",
      "54/54 [==============================] - 0s 815us/step - loss: 0.4673 - accuracy: 0.7740\n",
      "Epoch 8/30\n",
      "54/54 [==============================] - 0s 889us/step - loss: 0.4633 - accuracy: 0.7822\n",
      "Epoch 9/30\n",
      "54/54 [==============================] - 0s 889us/step - loss: 0.4581 - accuracy: 0.7869\n",
      "Epoch 10/30\n",
      "54/54 [==============================] - 0s 889us/step - loss: 0.4579 - accuracy: 0.7857\n",
      "Epoch 11/30\n",
      "54/54 [==============================] - 0s 815us/step - loss: 0.4544 - accuracy: 0.7881\n",
      "Epoch 12/30\n",
      "54/54 [==============================] - 0s 815us/step - loss: 0.4542 - accuracy: 0.7881\n",
      "Epoch 13/30\n",
      "54/54 [==============================] - 0s 889us/step - loss: 0.4522 - accuracy: 0.7939\n",
      "Epoch 14/30\n",
      "54/54 [==============================] - 0s 815us/step - loss: 0.4510 - accuracy: 0.7892\n",
      "Epoch 15/30\n",
      "54/54 [==============================] - 0s 815us/step - loss: 0.4492 - accuracy: 0.7939\n",
      "Epoch 16/30\n",
      "54/54 [==============================] - 0s 815us/step - loss: 0.4474 - accuracy: 0.7927\n",
      "Epoch 17/30\n",
      "54/54 [==============================] - 0s 815us/step - loss: 0.4459 - accuracy: 0.7892\n",
      "Epoch 18/30\n",
      "54/54 [==============================] - 0s 741us/step - loss: 0.4449 - accuracy: 0.7939\n",
      "Epoch 19/30\n",
      "54/54 [==============================] - 0s 889us/step - loss: 0.4441 - accuracy: 0.7904\n",
      "Epoch 20/30\n",
      "54/54 [==============================] - 0s 815us/step - loss: 0.4441 - accuracy: 0.7951\n",
      "Epoch 21/30\n",
      "54/54 [==============================] - 0s 889us/step - loss: 0.4428 - accuracy: 0.7939\n",
      "Epoch 22/30\n",
      "54/54 [==============================] - 0s 889us/step - loss: 0.4422 - accuracy: 0.7951\n",
      "Epoch 23/30\n",
      "54/54 [==============================] - 0s 889us/step - loss: 0.4398 - accuracy: 0.7963\n",
      "Epoch 24/30\n",
      "54/54 [==============================] - 0s 815us/step - loss: 0.4404 - accuracy: 0.7998\n",
      "Epoch 25/30\n",
      "54/54 [==============================] - 0s 815us/step - loss: 0.4382 - accuracy: 0.7998\n",
      "Epoch 26/30\n",
      "54/54 [==============================] - 0s 963us/step - loss: 0.4380 - accuracy: 0.7951\n",
      "Epoch 27/30\n",
      "54/54 [==============================] - 0s 889us/step - loss: 0.4376 - accuracy: 0.8009\n",
      "Epoch 28/30\n",
      "54/54 [==============================] - 0s 815us/step - loss: 0.4345 - accuracy: 0.8056\n",
      "Epoch 29/30\n",
      "54/54 [==============================] - 0s 889us/step - loss: 0.4366 - accuracy: 0.7998\n",
      "Epoch 30/30\n",
      "54/54 [==============================] - 0s 889us/step - loss: 0.4350 - accuracy: 0.7998\n",
      "WARNING:tensorflow:Model was constructed with shape (None, 10000, 6) for input Tensor(\"dense_57_input:0\", shape=(None, 10000, 6), dtype=float32), but it was called on an input with incompatible shape (None, 6).\n",
      "18/18 [==============================] - 0s 667us/step - loss: 0.4414 - accuracy: 0.7947\n",
      "0.7947368621826172\n"
     ]
    }
   ],
   "source": [
    "model = build_model()\n",
    "model.fit(train_data, train_targets, epochs=30, batch_size=16)\n",
    "val_mse, val_mae = model.evaluate(test_data, test_targets)\n",
    "print(val_mae)"
   ]
  },
  {
   "cell_type": "markdown",
   "metadata": {},
   "source": [
    "# 5. K겹 검증"
   ]
  },
  {
   "cell_type": "code",
   "execution_count": 86,
   "metadata": {},
   "outputs": [],
   "source": [
    "x_val = model"
   ]
  },
  {
   "cell_type": "code",
   "execution_count": 87,
   "metadata": {},
   "outputs": [
    {
     "name": "stdout",
     "output_type": "stream",
     "text": [
      "처리중인 폴드 # 0\n",
      "처리중인 폴드 # 1\n",
      "처리중인 폴드 # 2\n",
      "처리중인 폴드 # 3\n",
      "WARNING:tensorflow:Model was constructed with shape (None, 854, 6) for input Tensor(\"dense_39_input:0\", shape=(None, 854, 6), dtype=float32), but it was called on an input with incompatible shape (1, 6).\n",
      "WARNING:tensorflow:Model was constructed with shape (None, 854, 6) for input Tensor(\"dense_39_input:0\", shape=(None, 854, 6), dtype=float32), but it was called on an input with incompatible shape (1, 6).\n",
      "WARNING:tensorflow:Model was constructed with shape (None, 854, 6) for input Tensor(\"dense_39_input:0\", shape=(None, 854, 6), dtype=float32), but it was called on an input with incompatible shape (None, 6).\n"
     ]
    }
   ],
   "source": [
    "import numpy as np\n",
    "\n",
    "k = 4\n",
    "\n",
    "num_val_samples = len(train_data) // k\n",
    "num_epochs = 100\n",
    "all_scores = []\n",
    "for i in range(k):\n",
    "    print('처리중인 폴드 #', i)\n",
    "    val_data = train_data[i * num_val_samples: (i + 1) * num_val_samples]  # 검증 데이터 준비: k번째 분할\n",
    "    val_targets = train_targets[i * num_val_samples: (i + 1) * num_val_samples]\n",
    "\n",
    "    partial_train_data = np.concatenate(  # 훈련 데이터 준비: 다른 분할 전체\n",
    "        [train_data[:i * num_val_samples],\n",
    "         train_data[(i + 1) * num_val_samples:]],\n",
    "        axis=0)\n",
    "    partial_train_targets = np.concatenate(\n",
    "        [train_targets[:i * num_val_samples],\n",
    "         train_targets[(i + 1) * num_val_samples:]],\n",
    "        axis=0)\n",
    "\n",
    "model = build_model()  # 케라스 모델 구성(컴파일 포함)\n",
    "model.fit(partial_train_data, partial_train_targets,  # 모델 훈련(verbose=0이므로 훈련 과정이 출력되지 않습니다.)\n",
    "          epochs=num_epochs, batch_size=1, verbose=0)\n",
    "val_mse, val_mae = model.evaluate(val_data, val_targets, verbose=0)  # 검증 세트로 모델 평가\n",
    "all_scores.append(val_mae)"
   ]
  },
  {
   "cell_type": "code",
   "execution_count": 88,
   "metadata": {},
   "outputs": [
    {
     "data": {
      "text/plain": [
       "[0.737089216709137]"
      ]
     },
     "execution_count": 88,
     "metadata": {},
     "output_type": "execute_result"
    }
   ],
   "source": [
    "all_scores"
   ]
  },
  {
   "cell_type": "markdown",
   "metadata": {},
   "source": [
    "# 6. 각 폴드에서 검증 점수를 로그에 저장하기\n",
    "- 신경망을 조금 더 오래 100 에포크 동안 훈련한다.\n"
   ]
  },
  {
   "cell_type": "code",
   "execution_count": 90,
   "metadata": {},
   "outputs": [
    {
     "name": "stdout",
     "output_type": "stream",
     "text": [
      "처리중인 폴드 # 0\n",
      "처리중인 폴드 # 1\n",
      "처리중인 폴드 # 2\n",
      "처리중인 폴드 # 3\n",
      "WARNING:tensorflow:Model was constructed with shape (None, 854, 6) for input Tensor(\"dense_45_input:0\", shape=(None, 854, 6), dtype=float32), but it was called on an input with incompatible shape (1, 6).\n",
      "WARNING:tensorflow:Model was constructed with shape (None, 854, 6) for input Tensor(\"dense_45_input:0\", shape=(None, 854, 6), dtype=float32), but it was called on an input with incompatible shape (1, 6).\n",
      "WARNING:tensorflow:Model was constructed with shape (None, 854, 6) for input Tensor(\"dense_45_input:0\", shape=(None, 854, 6), dtype=float32), but it was called on an input with incompatible shape (1, 6).\n"
     ]
    }
   ],
   "source": [
    "num_epochs = 100\n",
    "all_mae_histories = []\n",
    "for i in range(k):\n",
    "    print('처리중인 폴드 #', i)\n",
    "    val_data = train_data[i * num_val_samples: (i + 1) * num_val_samples]  #검증 데이터 준비: k번째 분할    val_targets = train_targets[i * num_val_samples: (i + 1) * num_val_samples]\n",
    "    partial_train_data = np.concatenate(  # 훈련 데이터 준비: 다른 분할 전체\n",
    "        [train_data[:i * num_val_samples],\n",
    "         train_data[(i + 1) * num_val_samples:]],\n",
    "        axis=0)\n",
    "    partial_train_targets = np.concatenate(\n",
    "        [train_targets[:i * num_val_samples],\n",
    "         train_targets[(i + 1) * num_val_samples:]],\n",
    "        axis=0)\n",
    "\n",
    "model = build_model()  # 케라스 모델 구성(컴파일 포함)\n",
    "history = model.fit(partial_train_data, partial_train_targets,  # 모델 훈련(verbose=0이므로 훈련 과정이 출력되지 않습니다.)\n",
    "                    validation_data=(val_data, val_targets),\n",
    "                    epochs=num_epochs, batch_size=1, verbose=0)\n",
    "mae_history = history.history['val_loss']\n",
    "all_mae_histories.append(mae_history)"
   ]
  },
  {
   "cell_type": "code",
   "execution_count": 91,
   "metadata": {},
   "outputs": [
    {
     "data": {
      "text/plain": [
       "[[0.5083594918251038,\n",
       "  0.4852636158466339,\n",
       "  0.492437481880188,\n",
       "  0.49077069759368896,\n",
       "  0.49601686000823975,\n",
       "  0.5012676119804382,\n",
       "  0.4928840696811676,\n",
       "  0.4956545829772949,\n",
       "  0.49918636679649353,\n",
       "  0.48838943243026733,\n",
       "  0.5003462433815002,\n",
       "  0.5007777810096741,\n",
       "  0.507266104221344,\n",
       "  0.5006011724472046,\n",
       "  0.5018245577812195,\n",
       "  0.49593833088874817,\n",
       "  0.5185645222663879,\n",
       "  0.5172644257545471,\n",
       "  0.5174673199653625,\n",
       "  0.5148354768753052,\n",
       "  0.5177210569381714,\n",
       "  0.5173794031143188,\n",
       "  0.5391824245452881,\n",
       "  0.5212194323539734,\n",
       "  0.508018970489502,\n",
       "  0.5196565985679626,\n",
       "  0.5157552361488342,\n",
       "  0.5377615690231323,\n",
       "  0.5307638049125671,\n",
       "  0.5318977236747742,\n",
       "  0.5549741387367249,\n",
       "  0.5545881986618042,\n",
       "  0.548026442527771,\n",
       "  0.5466448664665222,\n",
       "  0.5646140575408936,\n",
       "  0.5491489768028259,\n",
       "  0.5615623593330383,\n",
       "  0.5786784887313843,\n",
       "  0.5784119963645935,\n",
       "  0.570967435836792,\n",
       "  0.5644986629486084,\n",
       "  0.5731359720230103,\n",
       "  0.5692771673202515,\n",
       "  0.5663803815841675,\n",
       "  0.5801452398300171,\n",
       "  0.5647419095039368,\n",
       "  0.5894915461540222,\n",
       "  0.5973694324493408,\n",
       "  0.6002845168113708,\n",
       "  0.5852407813072205,\n",
       "  0.6031118631362915,\n",
       "  0.6155070066452026,\n",
       "  0.5963380336761475,\n",
       "  0.6014439463615417,\n",
       "  0.596997082233429,\n",
       "  0.6155499219894409,\n",
       "  0.5988383889198303,\n",
       "  0.6114161610603333,\n",
       "  0.596523106098175,\n",
       "  0.594275712966919,\n",
       "  0.6281514763832092,\n",
       "  0.6111547350883484,\n",
       "  0.6267129182815552,\n",
       "  0.6137833595275879,\n",
       "  0.6008965969085693,\n",
       "  0.6010787487030029,\n",
       "  0.6006464958190918,\n",
       "  0.607774019241333,\n",
       "  0.6051038503646851,\n",
       "  0.6020617485046387,\n",
       "  0.5996121168136597,\n",
       "  0.6152424812316895,\n",
       "  0.597422182559967,\n",
       "  0.6068174242973328,\n",
       "  0.5967329144477844,\n",
       "  0.637955367565155,\n",
       "  0.6070561408996582,\n",
       "  0.6157279014587402,\n",
       "  0.6063979864120483,\n",
       "  0.6231710314750671,\n",
       "  0.6248471736907959,\n",
       "  0.6158174872398376,\n",
       "  0.6005651950836182,\n",
       "  0.6162201166152954,\n",
       "  0.6010031700134277,\n",
       "  0.6053544282913208,\n",
       "  0.6153517961502075,\n",
       "  0.6140817999839783,\n",
       "  0.6137040257453918,\n",
       "  0.5965304970741272,\n",
       "  0.5825480222702026,\n",
       "  0.5904278755187988,\n",
       "  0.5979506969451904,\n",
       "  0.6106303930282593,\n",
       "  0.6106184720993042,\n",
       "  0.5980207920074463,\n",
       "  0.6087470054626465,\n",
       "  0.6006483435630798,\n",
       "  0.6172059774398804,\n",
       "  0.6031539440155029]]"
      ]
     },
     "execution_count": 91,
     "metadata": {},
     "output_type": "execute_result"
    }
   ],
   "source": [
    "all_mae_histories"
   ]
  },
  {
   "cell_type": "markdown",
   "metadata": {},
   "source": [
    "# 7. K-겹 검증 점수 평균 기록하기"
   ]
  },
  {
   "cell_type": "code",
   "execution_count": 92,
   "metadata": {},
   "outputs": [],
   "source": [
    "average_mae_history = [\n",
    "    np.mean([x[i] for x in all_mae_histories]) for i in range(num_epochs)]"
   ]
  },
  {
   "cell_type": "markdown",
   "metadata": {},
   "source": [
    "# 8. 검증 점수 그래프"
   ]
  },
  {
   "cell_type": "code",
   "execution_count": 93,
   "metadata": {},
   "outputs": [
    {
     "data": {
      "image/png": "[encoded data removed]",
      "text/plain": [
       "<Figure size 432x288 with 1 Axes>"
      ]
     },
     "metadata": {
      "needs_background": "light"
     },
     "output_type": "display_data"
    }
   ],
   "source": [
    "import matplotlib.pyplot as plt\n",
    "\n",
    "plt.plot(range(1, len(average_mae_history) + 1), average_mae_history)\n",
    "plt.xlabel('Epochs')\n",
    "plt.ylabel('Validation MAE')\n",
    "plt.show()"
   ]
  },
  {
   "cell_type": "markdown",
   "metadata": {},
   "source": [
    "# 9. 처음 10개의 데이터 포인트를 제외한 검증 점수 그리기\n",
    "- 데이터를 부드럽게 만드는 기법"
   ]
  },
  {
   "cell_type": "code",
   "execution_count": 94,
   "metadata": {},
   "outputs": [
    {
     "data": {
      "image/png": "[encoded data removed]",
      "text/plain": [
       "<Figure size 432x288 with 1 Axes>"
      ]
     },
     "metadata": {
      "needs_background": "light"
     },
     "output_type": "display_data"
    }
   ],
   "source": [
    "def smooth_curve(points, factor=0.9):\n",
    "    smoothed_points = []\n",
    "    for point in points:\n",
    "        if smoothed_points:\n",
    "            previous = smoothed_points[-1]\n",
    "            smoothed_points.append(previous * factor + point * (1 - factor))\n",
    "        else:\n",
    "            smoothed_points.append(point)\n",
    "    return smoothed_points\n",
    "\n",
    "smooth_mae_history = smooth_curve(average_mae_history[10:])\n",
    "\n",
    "plt.plot(range(1, len(smooth_mae_history) + 1), smooth_mae_history)\n",
    "plt.xlabel('Epochs')\n",
    "plt.ylabel('Validation MAE')\n",
    "plt.show()"
   ]
  },
  {
   "cell_type": "markdown",
   "metadata": {},
   "source": [
    "# 10. 최종 모델 훈련하기"
   ]
  },
  {
   "cell_type": "code",
   "execution_count": 95,
   "metadata": {},
   "outputs": [
    {
     "name": "stdout",
     "output_type": "stream",
     "text": [
      "WARNING:tensorflow:Model was constructed with shape (None, 854, 6) for input Tensor(\"dense_48_input:0\", shape=(None, 854, 6), dtype=float32), but it was called on an input with incompatible shape (None, 6).\n",
      "WARNING:tensorflow:Model was constructed with shape (None, 854, 6) for input Tensor(\"dense_48_input:0\", shape=(None, 854, 6), dtype=float32), but it was called on an input with incompatible shape (None, 6).\n",
      "WARNING:tensorflow:Model was constructed with shape (None, 854, 6) for input Tensor(\"dense_48_input:0\", shape=(None, 854, 6), dtype=float32), but it was called on an input with incompatible shape (None, 6).\n",
      " 1/18 [>.............................] - ETA: 0s - loss: 0.3285 - accuracy: 0.9375WARNING:tensorflow:Callbacks method `on_test_batch_end` is slow compared to the batch time (batch time: 0.0000s vs `on_test_batch_end` time: 0.0040s). Check your callbacks.\n",
      "18/18 [==============================] - 0s 889us/step - loss: 0.4477 - accuracy: 0.7895\n"
     ]
    }
   ],
   "source": [
    "model = build_model()  # 새롭게 컴파일된 모델을 얻습니다.\n",
    "model.fit(train_data, train_targets,  # 전체 데이터로 훈련시킵니다.\n",
    "          epochs=80, batch_size=16, verbose=0)\n",
    "test_mse_score, test_mae_score = model.evaluate(test_data, test_targets)"
   ]
  },
  {
   "cell_type": "code",
   "execution_count": 96,
   "metadata": {},
   "outputs": [
    {
     "data": {
      "text/plain": [
       "0.7894737124443054"
      ]
     },
     "execution_count": 96,
     "metadata": {},
     "output_type": "execute_result"
    }
   ],
   "source": [
    "test_mae_score"
   ]
  },
  {
   "cell_type": "markdown",
   "metadata": {},
   "source": [
    "# 11. 프로젝트를 하면서 느낀점\n",
    "\n",
    "- 인공지능을 많이 아는 것도 아니고, 처음 다뤄보는 것이여서 처음엔 어떻게 해야할지 막막했었습니다. 잘 모르는 인공지능 분야를 선택하는 것보다 최대한 학교에서 배운 것을 써먹을 수 있는 주제를 찾았습니다.  \n",
    "그럼에도 어려웠던 부분도 있었고 오류때문에 힘들었던 적도 있었으나 선생님께 자문하는 방식으로 해결방법을 얻었습니다.   \n",
    "도움을 주신 선생님께 감사의 말씀을 드리고 싶고, 데이터 수집하느라 수고해준 동관이에게도 고맙다는 말을 남기고 싶습니다.  \n",
    "- 오류를 조사하면서 알게된 조금더 복잡한 인공지능에 대해서 관심이 생겼고 기회가 생긴다면 더 알아보고 싶습니다."
   ]
  },
  {
   "cell_type": "code",
   "execution_count": null,
   "metadata": {},
   "outputs": [],
   "source": []
  }
 ],
 "metadata": {
  "kernelspec": {
   "display_name": "Python 3",
   "language": "python",
   "name": "python3"
  },
  "language_info": {
   "codemirror_mode": {
    "name": "ipython",
    "version": 3
   },
   "file_extension": ".py",
   "mimetype": "text/x-python",
   "name": "python",
   "nbconvert_exporter": "python",
   "pygments_lexer": "ipython3",
   "version": "3.7.7"
  }
 },
 "nbformat": 4,
 "nbformat_minor": 5
}
