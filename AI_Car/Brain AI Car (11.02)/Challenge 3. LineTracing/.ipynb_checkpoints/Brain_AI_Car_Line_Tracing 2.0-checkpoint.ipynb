{
 "cells": [
  {
   "cell_type": "code",
   "execution_count": 1,
   "metadata": {},
   "outputs": [],
   "source": [
    "# 필요 라이브러리 불러오기\n",
    "import cv2\n",
    "import numpy as np\n",
    "import time\n",
    "\n",
    "import serial\n",
    "import serial.tools.list_ports"
   ]
  },
  {
   "cell_type": "code",
   "execution_count": 2,
   "metadata": {},
   "outputs": [
    {
     "name": "stdout",
     "output_type": "stream",
     "text": [
      "\n",
      " microbit USB detected:  COM18\n"
     ]
    }
   ],
   "source": [
    "# USB 시리얼 포트 찾기\n",
    "ports = serial.tools.list_ports.comports()\n",
    "com = ''\n",
    "\n",
    "for port, desc, hwid in sorted(ports):\n",
    "    if 'USB' in desc:\n",
    "        com = port\n",
    "if com != '':\n",
    "    print('\\n microbit USB detected: ', com)\n",
    "else:\n",
    "    print('\\n Please connect your microbit to this PC via USB')\n",
    "    exit()"
   ]
  },
  {
   "cell_type": "code",
   "execution_count": 3,
   "metadata": {},
   "outputs": [],
   "source": [
    "def SerialSendCommand(ser, cmd):\n",
    "    cmd = str(cmd)\n",
    "    cmd  = cmd + '\\n'\n",
    "    cmd = str.encode(cmd)\n",
    "    ser.write(cmd)"
   ]
  },
  {
   "cell_type": "code",
   "execution_count": 13,
   "metadata": {},
   "outputs": [],
   "source": [
    "def LineTracing(frame, ser, tic, cropFrame, width, height, y1):\n",
    "    \n",
    "    #find green color\n",
    "    hsv = cv2.cvtColor(cropFrame, cv2.COLOR_BGR2HSV)\n",
    "    mask = cv2.inRange(hsv, (24, 80, 28), (75, 255,255))\n",
    "    noGreen = cropFrame.copy()\n",
    "    # change to white \n",
    "    noGreen[mask > 0] = (255, 255, 255)\n",
    "    cv2.imshow(\"noGreen\", noGreen)\n",
    "\n",
    "    #find black line\n",
    "    gray = cv2.cvtColor(noGreen, cv2.COLOR_BGR2GRAY)\n",
    "    blur = cv2.GaussianBlur(gray, (9,9), 0)\n",
    "    ret, thresh = cv2.threshold(blur, threshold, 255, cv2.THRESH_BINARY_INV)\n",
    "    cv2.imshow(\"thresh\", thresh)\n",
    "    \n",
    "    cnts = cv2.findContours(thresh.copy(), cv2.RETR_EXTERNAL, cv2.CHAIN_APPROX_SIMPLE)[-2]\n",
    "    \n",
    "    if len(cnts) > 0:\n",
    "    \n",
    "        c = max(cnts, key=cv2.contourArea)\n",
    "        M = cv2.moments(c)\n",
    "\n",
    "        if M['m00'] == 0:\n",
    "            pass\n",
    "\n",
    "        else:\n",
    "            cx = int(M['m10'] / M['m00'])\n",
    "            cy = int(M['m01'] / M['m00'])\n",
    "            \n",
    "            cv2.line(frame,(cx,0), (cx, int(height)), (255, 0 , 0), 1)\n",
    "            cv2.line(frame,(0,cy + y1), (int(width), cy + y1), (255, 0, 0), 1)\n",
    "            cv2.drawContours(frame, cnts, -1, (0, 0 , 255), 1, offset = (0,y1))\n",
    "                        \n",
    "            turn = cx / width*100\n",
    "            turn = turn - 50\n",
    "            turn = turn * sens\n",
    "            turn = turn - align\n",
    "            turn = abs(int(turn))\n",
    "\n",
    "            if turn < (align - 45):\n",
    "                turn = (align - 45)\n",
    "                SerialSendCommand(ser, turn)\n",
    "                tic = time.time()\n",
    "                text = str(turn)\n",
    "                cv2.putText(frame, text, (50,50), cv2.FONT_HERSHEY_SIMPLEX, 2, (0, 0, 255), 5)\n",
    "\n",
    "            elif turn > (align + 45):\n",
    "                turn = (align + 45)\n",
    "                SerialSendCommand(ser, turn)\n",
    "                tic = time.time()\n",
    "                text = str(turn)\n",
    "                cv2.putText(frame, text, (50,50), cv2.FONT_HERSHEY_SIMPLEX, 2, (0, 0, 255), 5)\n",
    "\n",
    "            else:\n",
    "                SerialSendCommand(ser, turn)\n",
    "                tic = time.time()\n",
    "                text = str(turn)\n",
    "                cv2.putText(frame, text, (50,50),cv2.FONT_HERSHEY_SIMPLEX, 2, (255, 100, 0), 5)\n",
    "\n",
    "    else:\n",
    "        if time.time() - tic > 3:\n",
    "            turn = 0\n",
    "            SerialSendCommand(ser, turn)\n",
    "            print(\"I don't see the line\")\n",
    "            tic = time.time()\n",
    "  \n",
    "    return tic"
   ]
  },
  {
   "cell_type": "code",
   "execution_count": 14,
   "metadata": {
    "scrolled": true
   },
   "outputs": [],
   "source": [
    "def Main():\n",
    "    \n",
    "    MODE_PAUSE = -1 \n",
    "    MODE_LINE_TRACING = 0\n",
    "    mode_status = MODE_PAUSE\n",
    "    \n",
    "    Ser_Cmd_Str = '' \n",
    "    tic = time.time()\n",
    "\n",
    "    ser = serial.Serial(com, 115200, timeout=0, parity=serial.PARITY_NONE, rtscts=0)     \n",
    "    SerialSendCommand(ser, speed)\n",
    "    \n",
    "    video_capture = cv2.VideoCapture(video)\n",
    "      \n",
    "    print('Press q to quit') \n",
    "    print('Press p to start/pause')\n",
    "\n",
    "    while(True):\n",
    "       \n",
    "        grabbed, frame = video_capture.read()\n",
    "        \n",
    "        width = video_capture.get(cv2.CAP_PROP_FRAME_WIDTH )\n",
    "        height = video_capture.get(cv2.CAP_PROP_FRAME_HEIGHT )\n",
    "        \n",
    "        # set the area to search for line tracing\n",
    "        y1 = int(height - int(height*.25))\n",
    "        y2 = int(height - int(height*.0))\n",
    "        x1 = 0\n",
    "        x2 = int(width)\n",
    "        cropFrame = frame[y1:y2, x1:x2]\n",
    "\n",
    "        # Start / Pause\n",
    "        key = cv2.waitKey(1);\n",
    "        if key == ord('q'):\n",
    "            break\n",
    "               \n",
    "        elif key == ord('p'):\n",
    "            \n",
    "            if mode_status != MODE_PAUSE:\n",
    "                mode_status = MODE_PAUSE\n",
    "                cmd = '0'      \n",
    "                SerialSendCommand(ser, cmd)                \n",
    "                time.sleep(.15)\n",
    "                print(\"Mode: Paused\")\n",
    "                SerialSendCommand(ser, cmd)\n",
    "            \n",
    "            elif mode_status == MODE_PAUSE:\n",
    "                mode_status = MODE_LINE_TRACING\n",
    "                SerialSendCommand(ser, speed)\n",
    "                print (\"Mode: Line Tracing\")\n",
    "              \n",
    "        if mode_status == MODE_LINE_TRACING:  \n",
    "            tic  = LineTracing(frame, ser, tic, cropFrame, width, height, y1)\n",
    "        \n",
    "        cv2.imshow('Brain AI Car',frame)\n",
    "              \n",
    "    time.sleep(.5)        \n",
    "    Ser_Cmd_Str = '0'      \n",
    "    SerialSendCommand(ser, Ser_Cmd_Str)\n",
    "\n",
    "    ser.close()\n",
    "    video_capture.release()\n",
    "    cv2.destroyAllWindows()"
   ]
  },
  {
   "cell_type": "code",
   "execution_count": 15,
   "metadata": {
    "scrolled": true
   },
   "outputs": [
    {
     "name": "stdout",
     "output_type": "stream",
     "text": [
      "Press q to quit\n",
      "Press p to start/pause\n",
      "Mode: Line Tracing\n",
      "Mode: Paused\n",
      "Mode: Line Tracing\n",
      "Mode: Paused\n"
     ]
    },
    {
     "ename": "TypeError",
     "evalue": "'NoneType' object is not subscriptable",
     "output_type": "error",
     "traceback": [
      "\u001b[1;31m---------------------------------------------------------------------------\u001b[0m",
      "\u001b[1;31mTypeError\u001b[0m                                 Traceback (most recent call last)",
      "\u001b[1;32m<ipython-input-15-85b8fcfa9785>\u001b[0m in \u001b[0;36m<module>\u001b[1;34m\u001b[0m\n\u001b[0;32m      5\u001b[0m \u001b[1;33m\u001b[0m\u001b[0m\n\u001b[0;32m      6\u001b[0m \u001b[1;32mif\u001b[0m \u001b[0m__name__\u001b[0m \u001b[1;33m==\u001b[0m \u001b[1;34m'__main__'\u001b[0m\u001b[1;33m:\u001b[0m\u001b[1;33m\u001b[0m\u001b[1;33m\u001b[0m\u001b[0m\n\u001b[1;32m----> 7\u001b[1;33m     \u001b[0mMain\u001b[0m\u001b[1;33m(\u001b[0m\u001b[1;33m)\u001b[0m\u001b[1;33m\u001b[0m\u001b[1;33m\u001b[0m\u001b[0m\n\u001b[0m",
      "\u001b[1;32m<ipython-input-14-0c51f165eb46>\u001b[0m in \u001b[0;36mMain\u001b[1;34m()\u001b[0m\n\u001b[0;32m     28\u001b[0m         \u001b[0mx1\u001b[0m \u001b[1;33m=\u001b[0m \u001b[1;36m0\u001b[0m\u001b[1;33m\u001b[0m\u001b[1;33m\u001b[0m\u001b[0m\n\u001b[0;32m     29\u001b[0m         \u001b[0mx2\u001b[0m \u001b[1;33m=\u001b[0m \u001b[0mint\u001b[0m\u001b[1;33m(\u001b[0m\u001b[0mwidth\u001b[0m\u001b[1;33m)\u001b[0m\u001b[1;33m\u001b[0m\u001b[1;33m\u001b[0m\u001b[0m\n\u001b[1;32m---> 30\u001b[1;33m         \u001b[0mcropFrame\u001b[0m \u001b[1;33m=\u001b[0m \u001b[0mframe\u001b[0m\u001b[1;33m[\u001b[0m\u001b[0my1\u001b[0m\u001b[1;33m:\u001b[0m\u001b[0my2\u001b[0m\u001b[1;33m,\u001b[0m \u001b[0mx1\u001b[0m\u001b[1;33m:\u001b[0m\u001b[0mx2\u001b[0m\u001b[1;33m]\u001b[0m\u001b[1;33m\u001b[0m\u001b[1;33m\u001b[0m\u001b[0m\n\u001b[0m\u001b[0;32m     31\u001b[0m \u001b[1;33m\u001b[0m\u001b[0m\n\u001b[0;32m     32\u001b[0m         \u001b[1;31m# Start / Pause\u001b[0m\u001b[1;33m\u001b[0m\u001b[1;33m\u001b[0m\u001b[1;33m\u001b[0m\u001b[0m\n",
      "\u001b[1;31mTypeError\u001b[0m: 'NoneType' object is not subscriptable"
     ]
    }
   ],
   "source": [
    "video = 'https://172.30.1.30:8080/video'\n",
    "threshold = 60 # put to 175 if using at night with a LED light\n",
    "speed = 550\n",
    "align = 88\n",
    "sens = 1.4    # how sensitive the line tracing is (1 = not sensitive, 2 = very sensitive)\n",
    "\n",
    "if __name__ == '__main__':\n",
    "    Main()"
   ]
  },
  {
   "cell_type": "code",
   "execution_count": null,
   "metadata": {},
   "outputs": [],
   "source": []
  }
 ],
 "metadata": {
  "kernelspec": {
   "display_name": "Python 3",
   "language": "python",
   "name": "python3"
  },
  "language_info": {
   "codemirror_mode": {
    "name": "ipython",
    "version": 3
   },
   "file_extension": ".py",
   "mimetype": "text/x-python",
   "name": "python",
   "nbconvert_exporter": "python",
   "pygments_lexer": "ipython3",
   "version": "3.7.7"
  }
 },
 "nbformat": 4,
 "nbformat_minor": 2
}
