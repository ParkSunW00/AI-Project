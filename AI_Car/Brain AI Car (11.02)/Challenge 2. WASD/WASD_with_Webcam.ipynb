{
 "cells": [
  {
   "cell_type": "code",
   "execution_count": 1,
   "metadata": {},
   "outputs": [],
   "source": [
    "# 필요 라이브러리 블러오기\n",
    "import cv2\n",
    "import numpy as np\n",
    "import sys\n",
    "import time\n",
    "import datetime\n",
    "import serial\n",
    "import serial.tools.list_ports\n",
    "import imutils\n",
    "from imutils.perspective import four_point_transform"
   ]
  },
  {
   "cell_type": "code",
   "execution_count": 2,
   "metadata": {},
   "outputs": [
    {
     "name": "stdout",
     "output_type": "stream",
     "text": [
      "\n",
      " microbit USB detected:  COM7\n"
     ]
    }
   ],
   "source": [
    "# USB 시리얼 포트 찾기\n",
    "\n",
    "ports = serial.tools.list_ports.comports()\n",
    "com = ''\n",
    "for port, desc, hwid in sorted(ports):\n",
    "    if 'USB' in desc:\n",
    "        com = port\n",
    "if com != '':\n",
    "    print('\\n microbit USB detected: ', com)\n",
    "else:\n",
    "    print('\\n Please connect your microbit to this PC via USB')\n",
    "    exit()"
   ]
  },
  {
   "cell_type": "code",
   "execution_count": 3,
   "metadata": {},
   "outputs": [],
   "source": [
    "def SerialSendCommand(ser, cmd):\n",
    "    cmd = str(cmd)           #change integer into string\n",
    "    cmd  = cmd + '\\n'        #indicate that a new line is starting\n",
    "    cmd = str.encode(cmd)    #encode the string to send to the micro:bit\n",
    "    ser.write(cmd)           #write to the micro:bit"
   ]
  },
  {
   "cell_type": "code",
   "execution_count": 4,
   "metadata": {},
   "outputs": [],
   "source": [
    "def Main():      \n",
    "    \n",
    "    cmd = '' \n",
    "    \n",
    "    print('Input your commands: w, a, s, d')\n",
    "    print('Press Spacebar to stop')\n",
    "    print('Press q to quit') \n",
    "    \n",
    "    video_capture = cv2.VideoCapture(video)\n",
    "    ser = serial.Serial(com, 115200, timeout=0, parity=serial.PARITY_NONE, rtscts=0)\n",
    "    SerialSendCommand(ser, speed)\n",
    "    \n",
    "    while(True):\n",
    "\n",
    "        grabbed, frame = video_capture.read()             \n",
    "        \n",
    "        cv2.imshow('IP Webcam', frame)\n",
    "\n",
    "\n",
    "        if cmd == '':\n",
    "\n",
    "            key = cv2.waitKey(1);\n",
    "            if key == ord('q'):\n",
    "                break\n",
    "\n",
    "            elif key == ord('w'):\n",
    "                cmd = align # 서보모터 90도 - 직진\n",
    "                print('Forward')\n",
    "                \n",
    "            elif key == ord('a'):\n",
    "                cmd = align + 40 # 서보모터 55도 - 좌회전\n",
    "                print('Left')\n",
    "                \n",
    "            elif key == ord('d'):\n",
    "                cmd = align - 40 # 서보모터 125도 - 우회전\n",
    "                print('Right')\n",
    "                \n",
    "            elif key == ord('s'):\n",
    "                cmd = '-2' # 20 - 160 범위 이외의 경우 - 후진\n",
    "                print('Reverse')\n",
    "                \n",
    "            elif key == ord(' '):\n",
    "                cmd = '0' # 20 - 160 범위 이외의 경우 - 정지\n",
    "                print('Stop')\n",
    "\n",
    "        else:\n",
    "            SerialSendCommand(ser, cmd)\n",
    "            tic = time.time()\n",
    "            cmd = ''\n",
    "\n",
    "    cmd = '0'                    \n",
    "    SerialSendCommand(ser,  cmd)\n",
    "    \n",
    "    ser.close()\n",
    "    video_capture.release()\n",
    "    cv2.destroyAllWindows()"
   ]
  },
  {
   "cell_type": "code",
   "execution_count": 5,
   "metadata": {
    "scrolled": true
   },
   "outputs": [
    {
     "name": "stdout",
     "output_type": "stream",
     "text": [
      "Input your commands: w, a, s, d\n",
      "Press Spacebar to stop\n",
      "Press q to quit\n"
     ]
    }
   ],
   "source": [
    "video = 'https://172.30.1.50:8080/video' # 0 = 웹캠\n",
    "speed = 600 # how fast the car will move\n",
    "align = 95 #align the servo motor (75 - 105)\n",
    "\n",
    "if __name__ == '__main__':\n",
    "    Main()"
   ]
  }
 ],
 "metadata": {
  "kernelspec": {
   "display_name": "Python 3",
   "language": "python",
   "name": "python3"
  },
  "language_info": {
   "codemirror_mode": {
    "name": "ipython",
    "version": 3
   },
   "file_extension": ".py",
   "mimetype": "text/x-python",
   "name": "python",
   "nbconvert_exporter": "python",
   "pygments_lexer": "ipython3",
   "version": "3.7.7"
  }
 },
 "nbformat": 4,
 "nbformat_minor": 2
}
