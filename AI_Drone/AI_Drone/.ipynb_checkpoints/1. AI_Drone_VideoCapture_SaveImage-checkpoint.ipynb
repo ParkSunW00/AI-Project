{
 "cells": [
  {
   "cell_type": "code",
   "execution_count": 1,
   "metadata": {},
   "outputs": [
    {
     "name": "stdout",
     "output_type": "stream",
     "text": [
      "Sending message: command\n",
      "Sending message: streamon\n",
      "Sending message: streamoff\n"
     ]
    }
   ],
   "source": [
    "import cv2, sys\n",
    "import socket #실시간통신\n",
    "import threading \n",
    "import time\n",
    "import datetime\n",
    "\n",
    "tello_address = ('192.168.10.1', 8889) #두가지요소를 가지고 있는 튜플\n",
    "local_address = ('', 9000)\n",
    "\n",
    "sock = socket.socket(socket.AF_INET, socket.SOCK_DGRAM) #소켓통신\n",
    "sock.bind(local_address) #소켓을 local address에 bind\n",
    "\n",
    "#Tello라는 드론에게 딜레이 줘서 메세지 보내는 함수\n",
    "def send(message, delay=0):\n",
    "  try:\n",
    "    sock.sendto(message.encode(), tello_address)\n",
    "    print(\"Sending message: \" + message)\n",
    "  except Exception as e:\n",
    "    print(\"Error sending: \" + str(e))\n",
    "    \n",
    "  time.sleep(delay)\n",
    "\n",
    "#데이터를 받는 함수\n",
    "def receive():\n",
    "  while True:\n",
    "    try:\n",
    "      response, ip_address = sock.recvfrom(128)\n",
    "      print(\"Received message: \" + response.decode(encoding='utf-8'))\n",
    "    except Exception as e:\n",
    "      sock.close()\n",
    "      print(\"Error receiving: \" + str(e))\n",
    "      break\n",
    "      \n",
    "receiveThread = threading.Thread(target=receive)\n",
    "receiveThread.daemon = True\n",
    "receiveThread.start()\n",
    "\n",
    "send(\"command\", 5) #드론한테 명령\n",
    "send(\"streamon\", 5) #카메라on\n",
    "\n",
    "capture = cv2.VideoCapture(0) # 텔로 EDU 캠 포트\n",
    "\n",
    "while True: \n",
    "    ret, frame = capture.read()\n",
    "    if ret == True:\n",
    "        cv2.imshow('frame', frame)\n",
    "\n",
    "    key = cv2.waitKey(1);\n",
    "    if key == ord('q'):\n",
    "        send(\"streamoff\")\n",
    "        break\n",
    "    elif key == ord('s'):\n",
    "        file = datetime.datetime.now().strftime(\"%Y%m%d_%H%M%S%f\") +'.jpg' #중복 안되게 시간을 파일 이름으로 씀\n",
    "        cv2.imwrite(file,frame)  \n",
    "        print(file, ' saved')\n",
    "\n",
    "        \n",
    "capture.release()\n",
    "cv2.destroyAllWindows()\n"
   ]
  },
  {
   "cell_type": "code",
   "execution_count": null,
   "metadata": {},
   "outputs": [],
   "source": []
  }
 ],
 "metadata": {
  "anaconda-cloud": {},
  "kernelspec": {
   "display_name": "Python 3",
   "language": "python",
   "name": "python3"
  },
  "language_info": {
   "codemirror_mode": {
    "name": "ipython",
    "version": 3
   },
   "file_extension": ".py",
   "mimetype": "text/x-python",
   "name": "python",
   "nbconvert_exporter": "python",
   "pygments_lexer": "ipython3",
   "version": "3.7.7"
  }
 },
 "nbformat": 4,
 "nbformat_minor": 2
}
