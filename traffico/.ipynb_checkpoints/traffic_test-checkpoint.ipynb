{
 "cells": [
  {
   "cell_type": "code",
   "execution_count": null,
   "metadata": {},
   "outputs": [
    {
     "name": "stdout",
     "output_type": "stream",
     "text": [
      "온  도: 1\n",
      "강수량: 1\n"
     ]
    }
   ],
   "source": [
    "import tensorflow as tf\n",
    "import numpy as np\n",
    "\n",
    "# 플레이스 홀더를 설정합니다.\n",
    "X = tf.placeholder(tf.float32, shape=[None, 4])\n",
    "Y = tf.placeholder(tf.float32, shape=[None, 1])\n",
    "\n",
    "\n",
    "W = tf.Variable(tf.random_normal([4, 1]), name=\"weight\")\n",
    "b = tf.Variable(tf.random_normal([1]), name=\"bias\")\n",
    "\n",
    "\n",
    "\n",
    "# 가설을 설정합니다.\n",
    "hypothesis = tf.matmul(X, W) + b\n",
    "\n",
    "\n",
    "# 저장된 모델을 불러오는 객체를 선언합니다.\n",
    "\n",
    "saver = tf.train.Saver()\n",
    "model = tf.global_variables_initializer()\n",
    "\n",
    "\n",
    "# 7가지 변수를 입력 받습니다. 기온,강수량,풍속,습도,일조,적설,지면온도\n",
    "\n",
    "avg_temp = float(input('온  도: '))\n",
    "avg_rain = float(input('강수량: '))\n",
    "wind_vel = float(input('풍  속: '))\n",
    "humidity = float(input('습  도: '))\n",
    "sunshine = float(input('일조량: '))\n",
    "snowfall = float(input('적설량: '))\n",
    "suf_temp = float(input('표면온도: '))\n",
    "\n",
    "\n",
    "with tf.Session() as sess:\n",
    "    sess.run(model)\n",
    "\n",
    "\n",
    "    # 저장된 학습 모델을 파일로부터 불러옵니다.\n",
    "    save_path = \"saved.cpkt\"\n",
    "    saver.restore(sess, save_path)\n",
    "\n",
    "    # 사용자의 입력 값을 이용해 배열을 만듭니다.\n",
    "    data = ((avg_temp, avg_rain, wind_vel, humidity, sunshine, snowfall, suf_temp), )\n",
    "    arr = np.array(data, dtype=np.float32)\n",
    "\n",
    "\n",
    "\n",
    "    # 예측을 수행한 뒤에 그 결과를 출력합니다.\n",
    "\n",
    "    x_data = arr[:]\n",
    "    dict = sess.run(hypothesis, feed_dict={X: x_data})\n",
    "\n",
    "    print(dict[0])"
   ]
  },
  {
   "cell_type": "markdown",
   "metadata": {},
   "source": [
    "# "
   ]
  }
 ],
 "metadata": {
  "kernelspec": {
   "display_name": "ecsdeepda",
   "language": "python",
   "name": "ecsdeep"
  },
  "language_info": {
   "codemirror_mode": {
    "name": "ipython",
    "version": 3
   },
   "file_extension": ".py",
   "mimetype": "text/x-python",
   "name": "python",
   "nbconvert_exporter": "python",
   "pygments_lexer": "ipython3",
   "version": "3.5.4"
  }
 },
 "nbformat": 4,
 "nbformat_minor": 2
}
